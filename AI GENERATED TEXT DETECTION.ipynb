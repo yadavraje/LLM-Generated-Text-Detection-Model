{
 "cells": [
  {
   "cell_type": "code",
   "execution_count": 1,
   "id": "31125385",
   "metadata": {},
   "outputs": [],
   "source": [
    "#data dependencies\n",
    "import numpy as np\n",
    "import pandas as pd\n",
    "import seaborn as sns\n",
    "import matplotlib.pyplot as plt\n",
    "from sklearn.model_selection import cross_val_score\n",
    "from sklearn import metrics\n",
    "import tensorflow\n",
    "from tensorflow import keras\n",
    "from keras import Sequential\n",
    "from keras.layers import Dense, Activation\n",
    "from keras.layers import LSTM, Embedding\n",
    "from tensorflow.keras.preprocessing.sequence import pad_sequences\n",
    "from keras.layers import Embedding\n",
    "from nltk import tokenize\n",
    "from keras.preprocessing.text import Tokenizer"
   ]
  },
  {
   "cell_type": "code",
   "execution_count": 2,
   "id": "accfdd74",
   "metadata": {},
   "outputs": [],
   "source": [
    "df1=pd.read_csv('train_essays.csv')"
   ]
  },
  {
   "cell_type": "code",
   "execution_count": 3,
   "id": "35086f66",
   "metadata": {},
   "outputs": [],
   "source": [
    "df2=pd.read_excel('AI ESSAY.xlsx')"
   ]
  },
  {
   "cell_type": "code",
   "execution_count": 4,
   "id": "60857d1c",
   "metadata": {},
   "outputs": [
    {
     "data": {
      "text/html": [
       "<div>\n",
       "<style scoped>\n",
       "    .dataframe tbody tr th:only-of-type {\n",
       "        vertical-align: middle;\n",
       "    }\n",
       "\n",
       "    .dataframe tbody tr th {\n",
       "        vertical-align: top;\n",
       "    }\n",
       "\n",
       "    .dataframe thead th {\n",
       "        text-align: right;\n",
       "    }\n",
       "</style>\n",
       "<table border=\"1\" class=\"dataframe\">\n",
       "  <thead>\n",
       "    <tr style=\"text-align: right;\">\n",
       "      <th></th>\n",
       "      <th>id</th>\n",
       "      <th>prompt_id</th>\n",
       "      <th>text</th>\n",
       "      <th>generated</th>\n",
       "    </tr>\n",
       "  </thead>\n",
       "  <tbody>\n",
       "    <tr>\n",
       "      <th>0</th>\n",
       "      <td>0</td>\n",
       "      <td>0</td>\n",
       "      <td>Introduction\\n\\nThe idea of car-free cities is...</td>\n",
       "      <td>1</td>\n",
       "    </tr>\n",
       "    <tr>\n",
       "      <th>1</th>\n",
       "      <td>0</td>\n",
       "      <td>0</td>\n",
       "      <td>Introduction\\n\\nCar-free cities are a concept ...</td>\n",
       "      <td>1</td>\n",
       "    </tr>\n",
       "    <tr>\n",
       "      <th>2</th>\n",
       "      <td>0</td>\n",
       "      <td>0</td>\n",
       "      <td>Introduction\\n\\nThe concept of car-free cities...</td>\n",
       "      <td>1</td>\n",
       "    </tr>\n",
       "    <tr>\n",
       "      <th>3</th>\n",
       "      <td>0</td>\n",
       "      <td>0</td>\n",
       "      <td>In recent years, there has been a growing move...</td>\n",
       "      <td>1</td>\n",
       "    </tr>\n",
       "    <tr>\n",
       "      <th>4</th>\n",
       "      <td>0</td>\n",
       "      <td>0</td>\n",
       "      <td>The concept of car-free cities is increasingly...</td>\n",
       "      <td>1</td>\n",
       "    </tr>\n",
       "  </tbody>\n",
       "</table>\n",
       "</div>"
      ],
      "text/plain": [
       "   id  prompt_id                                               text  generated\n",
       "0   0          0  Introduction\\n\\nThe idea of car-free cities is...          1\n",
       "1   0          0  Introduction\\n\\nCar-free cities are a concept ...          1\n",
       "2   0          0  Introduction\\n\\nThe concept of car-free cities...          1\n",
       "3   0          0  In recent years, there has been a growing move...          1\n",
       "4   0          0  The concept of car-free cities is increasingly...          1"
      ]
     },
     "execution_count": 4,
     "metadata": {},
     "output_type": "execute_result"
    }
   ],
   "source": [
    "df2.head()"
   ]
  },
  {
   "cell_type": "code",
   "execution_count": 5,
   "id": "583fb544",
   "metadata": {},
   "outputs": [
    {
     "data": {
      "text/plain": [
       "(2784, 4)"
      ]
     },
     "execution_count": 5,
     "metadata": {},
     "output_type": "execute_result"
    }
   ],
   "source": [
    "df=pd.concat([df1,df2], ignore_index=True)\n",
    "df.shape"
   ]
  },
  {
   "cell_type": "code",
   "execution_count": 6,
   "id": "2e8bbcd1",
   "metadata": {},
   "outputs": [
    {
     "data": {
      "text/plain": [
       "0    1430\n",
       "1    1354\n",
       "Name: prompt_id, dtype: int64"
      ]
     },
     "execution_count": 6,
     "metadata": {},
     "output_type": "execute_result"
    }
   ],
   "source": [
    "df['prompt_id'].value_counts()"
   ]
  },
  {
   "cell_type": "code",
   "execution_count": 7,
   "id": "af63a93d",
   "metadata": {},
   "outputs": [
    {
     "data": {
      "text/plain": [
       "1    1409\n",
       "0    1375\n",
       "Name: generated, dtype: int64"
      ]
     },
     "execution_count": 7,
     "metadata": {},
     "output_type": "execute_result"
    }
   ],
   "source": [
    "df['generated'].value_counts()"
   ]
  },
  {
   "cell_type": "code",
   "execution_count": 8,
   "id": "40cfdd5d",
   "metadata": {},
   "outputs": [
    {
     "data": {
      "text/html": [
       "<div>\n",
       "<style scoped>\n",
       "    .dataframe tbody tr th:only-of-type {\n",
       "        vertical-align: middle;\n",
       "    }\n",
       "\n",
       "    .dataframe tbody tr th {\n",
       "        vertical-align: top;\n",
       "    }\n",
       "\n",
       "    .dataframe thead th {\n",
       "        text-align: right;\n",
       "    }\n",
       "</style>\n",
       "<table border=\"1\" class=\"dataframe\">\n",
       "  <thead>\n",
       "    <tr style=\"text-align: right;\">\n",
       "      <th></th>\n",
       "      <th>id</th>\n",
       "      <th>prompt_id</th>\n",
       "      <th>text</th>\n",
       "      <th>generated</th>\n",
       "    </tr>\n",
       "  </thead>\n",
       "  <tbody>\n",
       "    <tr>\n",
       "      <th>1947</th>\n",
       "      <td>0</td>\n",
       "      <td>0</td>\n",
       "      <td>In recent years, the concept of car-free citie...</td>\n",
       "      <td>1</td>\n",
       "    </tr>\n",
       "    <tr>\n",
       "      <th>1746</th>\n",
       "      <td>0</td>\n",
       "      <td>0</td>\n",
       "      <td>In an era of growing environmental concerns an...</td>\n",
       "      <td>1</td>\n",
       "    </tr>\n",
       "    <tr>\n",
       "      <th>1843</th>\n",
       "      <td>0</td>\n",
       "      <td>0</td>\n",
       "      <td>The automobile has been a cornerstone of subur...</td>\n",
       "      <td>1</td>\n",
       "    </tr>\n",
       "    <tr>\n",
       "      <th>208</th>\n",
       "      <td>28d4b384</td>\n",
       "      <td>1</td>\n",
       "      <td>Since our beautiful country was born we've alw...</td>\n",
       "      <td>0</td>\n",
       "    </tr>\n",
       "    <tr>\n",
       "      <th>1423</th>\n",
       "      <td>0</td>\n",
       "      <td>0</td>\n",
       "      <td>The Advantages of Embracing Car-Free Cities\\n\\...</td>\n",
       "      <td>1</td>\n",
       "    </tr>\n",
       "    <tr>\n",
       "      <th>1885</th>\n",
       "      <td>0</td>\n",
       "      <td>0</td>\n",
       "      <td>The automobile has been a defining feature of ...</td>\n",
       "      <td>1</td>\n",
       "    </tr>\n",
       "    <tr>\n",
       "      <th>283</th>\n",
       "      <td>38d14015</td>\n",
       "      <td>1</td>\n",
       "      <td>Dear, Senator I'am a conserend voter that beli...</td>\n",
       "      <td>0</td>\n",
       "    </tr>\n",
       "    <tr>\n",
       "      <th>2261</th>\n",
       "      <td>0</td>\n",
       "      <td>1</td>\n",
       "      <td>Dear Senator,\\n\\nI am writing to you today to ...</td>\n",
       "      <td>1</td>\n",
       "    </tr>\n",
       "    <tr>\n",
       "      <th>822</th>\n",
       "      <td>948d0f4b</td>\n",
       "      <td>0</td>\n",
       "      <td>As we get older we want to travel to more plac...</td>\n",
       "      <td>0</td>\n",
       "    </tr>\n",
       "    <tr>\n",
       "      <th>1198</th>\n",
       "      <td>deb50259</td>\n",
       "      <td>0</td>\n",
       "      <td>Cars make it exceptionally easy to travel and ...</td>\n",
       "      <td>0</td>\n",
       "    </tr>\n",
       "  </tbody>\n",
       "</table>\n",
       "</div>"
      ],
      "text/plain": [
       "            id  prompt_id                                               text  \\\n",
       "1947         0          0  In recent years, the concept of car-free citie...   \n",
       "1746         0          0  In an era of growing environmental concerns an...   \n",
       "1843         0          0  The automobile has been a cornerstone of subur...   \n",
       "208   28d4b384          1  Since our beautiful country was born we've alw...   \n",
       "1423         0          0  The Advantages of Embracing Car-Free Cities\\n\\...   \n",
       "1885         0          0  The automobile has been a defining feature of ...   \n",
       "283   38d14015          1  Dear, Senator I'am a conserend voter that beli...   \n",
       "2261         0          1  Dear Senator,\\n\\nI am writing to you today to ...   \n",
       "822   948d0f4b          0  As we get older we want to travel to more plac...   \n",
       "1198  deb50259          0  Cars make it exceptionally easy to travel and ...   \n",
       "\n",
       "      generated  \n",
       "1947          1  \n",
       "1746          1  \n",
       "1843          1  \n",
       "208           0  \n",
       "1423          1  \n",
       "1885          1  \n",
       "283           0  \n",
       "2261          1  \n",
       "822           0  \n",
       "1198          0  "
      ]
     },
     "execution_count": 8,
     "metadata": {},
     "output_type": "execute_result"
    }
   ],
   "source": [
    "df.sample(10)"
   ]
  },
  {
   "cell_type": "code",
   "execution_count": 9,
   "id": "c2260465",
   "metadata": {},
   "outputs": [
    {
     "data": {
      "text/plain": [
       "(2784, 4)"
      ]
     },
     "execution_count": 9,
     "metadata": {},
     "output_type": "execute_result"
    }
   ],
   "source": [
    "df.shape"
   ]
  },
  {
   "cell_type": "code",
   "execution_count": 10,
   "id": "85963d20",
   "metadata": {},
   "outputs": [
    {
     "data": {
      "text/plain": [
       "Index(['text', 'generated'], dtype='object')"
      ]
     },
     "execution_count": 10,
     "metadata": {},
     "output_type": "execute_result"
    }
   ],
   "source": [
    "df=df.drop(['id','prompt_id'], axis=1)\n",
    "df.columns"
   ]
  },
  {
   "cell_type": "code",
   "execution_count": 11,
   "id": "b6c06be8",
   "metadata": {},
   "outputs": [
    {
     "data": {
      "text/plain": [
       "(2784, 2)"
      ]
     },
     "execution_count": 11,
     "metadata": {},
     "output_type": "execute_result"
    }
   ],
   "source": [
    "df.shape"
   ]
  },
  {
   "cell_type": "code",
   "execution_count": 12,
   "id": "64de2349",
   "metadata": {},
   "outputs": [],
   "source": [
    "## NEURAL NETWORKS ##"
   ]
  },
  {
   "cell_type": "code",
   "execution_count": 13,
   "id": "70426363",
   "metadata": {},
   "outputs": [],
   "source": [
    "### using LSTM"
   ]
  },
  {
   "cell_type": "code",
   "execution_count": 31,
   "id": "c85820cb",
   "metadata": {},
   "outputs": [],
   "source": [
    "tokenizer = Tokenizer()\n",
    "tokenizer.fit_on_texts(df['text'])\n",
    "X = tokenizer.texts_to_sequences(df['text'])\n",
    "max_sequence_length = max(len(sequence) for sequence in X)\n",
    "X_padded = pad_sequences(X, maxlen=max_sequence_length)\n",
    "X_padded_3D = X_padded.reshape(X_padded.shape[0], X_padded.shape[1], 1)\n",
    "from sklearn.model_selection import train_test_split\n",
    "X_train, X_test, y_train, y_test = train_test_split(X_padded_3D,df['generated'], test_size=0.2,  random_state=0)"
   ]
  },
  {
   "cell_type": "code",
   "execution_count": 32,
   "id": "0f417600",
   "metadata": {},
   "outputs": [
    {
     "data": {
      "text/plain": [
       "(2784, 1364, 1)"
      ]
     },
     "execution_count": 32,
     "metadata": {},
     "output_type": "execute_result"
    }
   ],
   "source": [
    "X_padded_3D.shape"
   ]
  },
  {
   "cell_type": "code",
   "execution_count": 18,
   "id": "eabfc277",
   "metadata": {},
   "outputs": [
    {
     "data": {
      "text/plain": [
       "18783"
      ]
     },
     "execution_count": 18,
     "metadata": {},
     "output_type": "execute_result"
    }
   ],
   "source": [
    "vocab_size=len(tokenizer.word_index)+1\n",
    "vocab_size"
   ]
  },
  {
   "cell_type": "code",
   "execution_count": 19,
   "id": "270cd527",
   "metadata": {},
   "outputs": [],
   "source": [
    "model = Sequential()\n",
    "model.add(Embedding(input_dim=vocab_size, output_dim=50, input_length=max_sequence_length))\n",
    "model.add(LSTM(units=120, dropout=0.3, recurrent_dropout=0.3,return_sequences=True))\n",
    "model.add(LSTM(units=60, dropout=0.1, recurrent_dropout=0.1, return_sequences=True))\n",
    "model.add(LSTM(units=30, dropout=0.05, recurrent_dropout=0.2))\n",
    "model.add(Dense(1, activation='sigmoid'))"
   ]
  },
  {
   "cell_type": "code",
   "execution_count": 20,
   "id": "3cc8aa86",
   "metadata": {},
   "outputs": [],
   "source": [
    "model.compile(optimizer='adam', loss='binary_crossentropy', metrics=['accuracy'])"
   ]
  },
  {
   "cell_type": "code",
   "execution_count": 21,
   "id": "ce4b6801",
   "metadata": {},
   "outputs": [
    {
     "name": "stdout",
     "output_type": "stream",
     "text": [
      "Model: \"sequential\"\n",
      "_________________________________________________________________\n",
      " Layer (type)                Output Shape              Param #   \n",
      "=================================================================\n",
      " embedding (Embedding)       (None, 1364, 50)          939150    \n",
      "                                                                 \n",
      " lstm (LSTM)                 (None, 1364, 120)         82080     \n",
      "                                                                 \n",
      " lstm_1 (LSTM)               (None, 1364, 60)          43440     \n",
      "                                                                 \n",
      " lstm_2 (LSTM)               (None, 30)                10920     \n",
      "                                                                 \n",
      " dense (Dense)               (None, 1)                 31        \n",
      "                                                                 \n",
      "=================================================================\n",
      "Total params: 1075621 (4.10 MB)\n",
      "Trainable params: 1075621 (4.10 MB)\n",
      "Non-trainable params: 0 (0.00 Byte)\n",
      "_________________________________________________________________\n"
     ]
    }
   ],
   "source": [
    "model.summary()"
   ]
  },
  {
   "cell_type": "code",
   "execution_count": 22,
   "id": "f7c9cc17",
   "metadata": {},
   "outputs": [
    {
     "name": "stdout",
     "output_type": "stream",
     "text": [
      "Epoch 1/5\n",
      "63/63 [==============================] - 639s 10s/step - loss: 0.2544 - accuracy: 0.8752 - val_loss: 0.0452 - val_accuracy: 0.9910\n",
      "Epoch 2/5\n",
      "63/63 [==============================] - 683s 11s/step - loss: 0.0332 - accuracy: 0.9915 - val_loss: 0.0131 - val_accuracy: 0.9955\n",
      "Epoch 3/5\n",
      "63/63 [==============================] - 712s 11s/step - loss: 0.0093 - accuracy: 0.9990 - val_loss: 0.0630 - val_accuracy: 0.9865\n",
      "Epoch 4/5\n",
      "63/63 [==============================] - 756s 12s/step - loss: 0.0074 - accuracy: 0.9990 - val_loss: 0.0125 - val_accuracy: 0.9955\n",
      "Epoch 5/5\n",
      "63/63 [==============================] - 768s 12s/step - loss: 0.0013 - accuracy: 1.0000 - val_loss: 0.0013 - val_accuracy: 1.0000\n"
     ]
    },
    {
     "data": {
      "text/plain": [
       "<keras.src.callbacks.History at 0x25310ee2080>"
      ]
     },
     "execution_count": 22,
     "metadata": {},
     "output_type": "execute_result"
    }
   ],
   "source": [
    "model.fit(X_train, y_train, epochs=5, batch_size=32, validation_split=0.1)"
   ]
  },
  {
   "cell_type": "code",
   "execution_count": null,
   "id": "99bdce3b",
   "metadata": {},
   "outputs": [],
   "source": [
    "y_prob=model.predict(X_test)"
   ]
  },
  {
   "cell_type": "code",
   "execution_count": null,
   "id": "d9eec087",
   "metadata": {},
   "outputs": [],
   "source": [
    "y_prob"
   ]
  },
  {
   "cell_type": "code",
   "execution_count": null,
   "id": "fb5586d3",
   "metadata": {},
   "outputs": [],
   "source": [
    "y_pred = (y_prob > 0.5).astype(int)\n",
    "y_pred"
   ]
  },
  {
   "cell_type": "code",
   "execution_count": 62,
   "id": "3693df56",
   "metadata": {},
   "outputs": [
    {
     "data": {
      "text/html": [
       "<div>\n",
       "<style scoped>\n",
       "    .dataframe tbody tr th:only-of-type {\n",
       "        vertical-align: middle;\n",
       "    }\n",
       "\n",
       "    .dataframe tbody tr th {\n",
       "        vertical-align: top;\n",
       "    }\n",
       "\n",
       "    .dataframe thead th {\n",
       "        text-align: right;\n",
       "    }\n",
       "</style>\n",
       "<table border=\"1\" class=\"dataframe\">\n",
       "  <thead>\n",
       "    <tr style=\"text-align: right;\">\n",
       "      <th></th>\n",
       "      <th>Sr. No.</th>\n",
       "      <th>text</th>\n",
       "      <th>generated</th>\n",
       "    </tr>\n",
       "  </thead>\n",
       "  <tbody>\n",
       "    <tr>\n",
       "      <th>0</th>\n",
       "      <td>1</td>\n",
       "      <td>Mahatma Gandhi: The Architect of Nonviolent Re...</td>\n",
       "      <td>1</td>\n",
       "    </tr>\n",
       "    <tr>\n",
       "      <th>1</th>\n",
       "      <td>2</td>\n",
       "      <td>The Evolving Landscape of Energy in 2023\\n\\nIn...</td>\n",
       "      <td>1</td>\n",
       "    </tr>\n",
       "    <tr>\n",
       "      <th>2</th>\n",
       "      <td>3</td>\n",
       "      <td>Market Trends and the Bitcoin Phenomenon\\n\\nIn...</td>\n",
       "      <td>1</td>\n",
       "    </tr>\n",
       "    <tr>\n",
       "      <th>3</th>\n",
       "      <td>4</td>\n",
       "      <td>The Dynamic Landscape of the Indian Market\\n\\n...</td>\n",
       "      <td>1</td>\n",
       "    </tr>\n",
       "    <tr>\n",
       "      <th>4</th>\n",
       "      <td>5</td>\n",
       "      <td>The Prospects of a Future Global Conflict\\n\\nI...</td>\n",
       "      <td>1</td>\n",
       "    </tr>\n",
       "  </tbody>\n",
       "</table>\n",
       "</div>"
      ],
      "text/plain": [
       "   Sr. No.                                               text  generated\n",
       "0        1  Mahatma Gandhi: The Architect of Nonviolent Re...          1\n",
       "1        2  The Evolving Landscape of Energy in 2023\\n\\nIn...          1\n",
       "2        3  Market Trends and the Bitcoin Phenomenon\\n\\nIn...          1\n",
       "3        4  The Dynamic Landscape of the Indian Market\\n\\n...          1\n",
       "4        5  The Prospects of a Future Global Conflict\\n\\nI...          1"
      ]
     },
     "execution_count": 62,
     "metadata": {},
     "output_type": "execute_result"
    }
   ],
   "source": [
    "df4=pd.read_excel('Book1.xlsx')\n",
    "df4.head()"
   ]
  },
  {
   "cell_type": "code",
   "execution_count": 63,
   "id": "e9782d97",
   "metadata": {},
   "outputs": [
    {
     "data": {
      "text/plain": [
       "0     Mahatma Gandhi: The Architect of Nonviolent Re...\n",
       "1     The Evolving Landscape of Energy in 2023\\n\\nIn...\n",
       "2     Market Trends and the Bitcoin Phenomenon\\n\\nIn...\n",
       "3     The Dynamic Landscape of the Indian Market\\n\\n...\n",
       "4     The Prospects of a Future Global Conflict\\n\\nI...\n",
       "5     ChatGPT: Revolutionizing Conversational AI\\n\\n...\n",
       "6     The Future of Greenery: Nurturing a Sustainabl...\n",
       "7     The Evolution and Impact of Laptops and Comput...\n",
       "8     Fire Safety and Life Safety: Building a Secure...\n",
       "9     The Beautiful Game: Exploring the Global Pheno...\n",
       "10    Bridging the Generation Gap: Understanding the...\n",
       "11    The Marvel of Life: A Comprehensive Exploratio...\n",
       "12    Title: Python: The Versatile Serpent of Progra...\n",
       "13    The Python: Nature's Enigmatic Constrictor\\n\\n...\n",
       "14    Title: The Intricate Tapestry of Life: A Celeb...\n",
       "15    Title: Earth: Our Fragile Oasis\\n\\nIntroductio...\n",
       "16    Title: The Essence of Data in the Digital Age\\...\n",
       "17    Title: \"WhatsApp: Transforming Communication i...\n",
       "18    Title: The Ever-Evolving Tapestry of Fashion\\n...\n",
       "19    Title: The Depleting Reserves: Non-Renewable S...\n",
       "Name: text, dtype: object"
      ]
     },
     "execution_count": 63,
     "metadata": {},
     "output_type": "execute_result"
    }
   ],
   "source": [
    "df4['text']"
   ]
  },
  {
   "cell_type": "code",
   "execution_count": 64,
   "id": "3d641295",
   "metadata": {},
   "outputs": [],
   "source": [
    "tokenizer = Tokenizer()\n",
    "tokenizer.fit_on_texts(df4['text'])\n",
    "X = tokenizer.texts_to_sequences(df4['text'])\n",
    "max_sequence_length = max(len(sequence) for sequence in X)\n",
    "X_padded = pad_sequences(X, maxlen=max_sequence_length)\n",
    "X_padded = X_padded.reshape(X_padded.shape[0], X_padded.shape[1], 1)"
   ]
  },
  {
   "cell_type": "code",
   "execution_count": 65,
   "id": "28ee5117",
   "metadata": {},
   "outputs": [
    {
     "data": {
      "text/plain": [
       "(20, 605, 1)"
      ]
     },
     "execution_count": 65,
     "metadata": {},
     "output_type": "execute_result"
    }
   ],
   "source": [
    "X_padded.shape"
   ]
  },
  {
   "cell_type": "code",
   "execution_count": null,
   "id": "29f92fe0",
   "metadata": {},
   "outputs": [],
   "source": [
    "y_test.value_counts()"
   ]
  },
  {
   "cell_type": "code",
   "execution_count": null,
   "id": "0fc213f4",
   "metadata": {},
   "outputs": [],
   "source": [
    "y_pred_binary = (y_pred > 0.5).astype(int)"
   ]
  },
  {
   "cell_type": "code",
   "execution_count": null,
   "id": "6e6c1e67",
   "metadata": {},
   "outputs": [],
   "source": [
    "y_pred"
   ]
  },
  {
   "cell_type": "code",
   "execution_count": 46,
   "id": "fd7d2845",
   "metadata": {},
   "outputs": [
    {
     "data": {
      "text/plain": [
       "0.9946140035906643"
      ]
     },
     "execution_count": 46,
     "metadata": {},
     "output_type": "execute_result"
    }
   ],
   "source": [
    "from sklearn.metrics import accuracy_score\n",
    "accuracy_score(y_pred,y_test)"
   ]
  },
  {
   "cell_type": "code",
   "execution_count": 66,
   "id": "7f01eb0e",
   "metadata": {},
   "outputs": [
    {
     "name": "stdout",
     "output_type": "stream",
     "text": [
      "1/1 [==============================] - 0s 334ms/step\n",
      "Predicted Probabilities:\n",
      "[[1]\n",
      " [1]\n",
      " [1]\n",
      " [0]\n",
      " [0]\n",
      " [0]\n",
      " [1]\n",
      " [0]\n",
      " [0]\n",
      " [0]\n",
      " [1]\n",
      " [0]\n",
      " [0]\n",
      " [0]\n",
      " [0]\n",
      " [1]\n",
      " [0]\n",
      " [0]\n",
      " [1]\n",
      " [0]]\n"
     ]
    }
   ],
   "source": [
    "from tensorflow.keras.models import load_model\n",
    "#model.save('model.h5')\n",
    "# Load the saved model\n",
    "#Project_model_lstm = load_model('model.h5')\n",
    "\n",
    "# Assuming you have new, unseen data (X_new_padded) to make predictions on\n",
    "y_prob = Project_model_lstm.predict(X_padded)\n",
    "y_pred = (y_prob > 0.5).astype(int)\n",
    "\n",
    "# Print or use the predictions as needed\n",
    "print(\"Predicted Probabilities:\")\n",
    "print(y_pred)"
   ]
  },
  {
   "cell_type": "code",
   "execution_count": 54,
   "id": "54514099",
   "metadata": {},
   "outputs": [],
   "source": [
    "def evalClassModel(model, y_test, y_pred_class, plot=False):\n",
    "    #Classification accuracy: percentage of correct predictions\n",
    "    # calculate accuracy\n",
    "    print('Accuracy:', metrics.accuracy_score(y_test, y_pred_class))\n",
    "    \n",
    "    #Null accuracy: accuracy that could be achieved by always predicting the most frequent class\n",
    "    # examine the class distribution of the testing set (using a Pandas Series method)\n",
    "    print('Null accuracy:\\n', y_test.value_counts())\n",
    "    \n",
    "    # calculate the percentage of ones\n",
    "    print('Percentage of ones:', y_test.mean())\n",
    "    \n",
    "    # calculate the percentage of zeros\n",
    "    print('Percentage of zeros:',1 - y_test.mean())\n",
    "    \n",
    "    #Comparing the true and predicted response values\n",
    "    print('True:', y_test.values[0:50])\n",
    "    print('Pred:', y_pred_class[0:50])\n",
    "    \n",
    "    #Conclusion:\n",
    "    #Classification accuracy is the easiest classification metric to understand\n",
    "    #But, it does not tell you the underlying distribution of response values\n",
    "    #And, it does not tell you what \"types\" of errors your classifier is making\n",
    "    \n",
    "    #Confusion matrix\n",
    "    # save confusion matrix and slice into four pieces\n",
    "    confusion = metrics.confusion_matrix(y_test, y_pred_class)\n",
    "    #[row, column]\n",
    "    TP = confusion[1, 1]\n",
    "    TN = confusion[0, 0]\n",
    "    FP = confusion[0, 1]\n",
    "    FN = confusion[1, 0]\n",
    "    \n",
    "    # visualize Confusion Matrix\n",
    "    sns.heatmap(confusion,annot=True,fmt=\"d\") \n",
    "    plt.title('Confusion Matrix')\n",
    "    plt.xlabel('Predicted')\n",
    "    plt.ylabel('Actual')\n",
    "    plt.show()\n",
    "    \n",
    "    #Metrics computed from a confusion matrix\n",
    "    #Classification Accuracy: Overall, how often is the classifier correct?\n",
    "    accuracy = metrics.accuracy_score(y_test, y_pred_class)\n",
    "    print('Classification Accuracy:', accuracy)\n",
    "    \n",
    "    #Classification Error: Overall, how often is the classifier incorrect?\n",
    "    print('Classification Error:', 1 - metrics.accuracy_score(y_test, y_pred_class))\n",
    "    \n",
    "    #False Positive Rate: When the actual value is negative, how often is the prediction incorrect?\n",
    "    false_positive_rate = FP / float(TN + FP)\n",
    "    print('False Positive Rate:', false_positive_rate)\n",
    "    \n",
    "    #Precision: When a positive value is predicted, how often is the prediction correct?\n",
    "    print('Precision:', metrics.precision_score(y_test, y_pred_class))\n",
    "    \n",
    "    \n",
    "    # IMPORTANT: first argument is true values, second argument is predicted probabilities\n",
    "    print('AUC Score:', metrics.roc_auc_score(y_test, y_pred_class))\n",
    "    \n",
    "    # calculate cross-validated AUC\n",
    "    #print('Cross-validated AUC:', cross_val_score(model, X_train, y_train, cv=10, scoring='roc_auc').mean())\n",
    "    \n",
    "    ##########################################\n",
    "    #Adjusting the classification threshold\n",
    "    ##########################################\n",
    "    # print the first 10 predicted responses\n",
    "    # 1D array (vector) of binary values (0, 1)\n",
    "    print('First 10 predicted responses:\\n', model.predict(X_test)[0:10])\n",
    "\n",
    "    # print the first 10 predicted probabilities of class membership\n",
    "    print('First 10 predicted probabilities of class members:\\n', model.predict(X_test)[0:10])\n",
    "\n",
    "    # print the first 10 predicted probabilities for class 1\n",
    "    model.predict(X_test)[0:10]\n",
    "    \n",
    "    # store the predicted probabilities for class 1\n",
    "    y_pred_prob = model.predict(X_test)[:]\n",
    "    \n",
    "    if plot == True:\n",
    "        # histogram of predicted probabilities\n",
    "        # adjust the font size \n",
    "        plt.rcParams['font.size'] = 12\n",
    "        # 8 bins\n",
    "        plt.hist(y_pred_prob, bins=8)\n",
    "        \n",
    "        # x-axis limit from 0 to 1\n",
    "        plt.xlim(0,1)\n",
    "        plt.title('Histogram of predicted probabilities')\n",
    "        plt.xlabel('Predicted probability of text')\n",
    "        plt.ylabel('Frequency')\n",
    "    \n",
    "    \n",
    "    # predict treatment if the predicted probability is greater than 0.3\n",
    "    # it will return 1 for all values above 0.3 and 0 otherwise\n",
    "    # results are 2D so we slice out the first column\n",
    "    y_pred_prob = y_pred_prob.reshape(-1,1) \n",
    "    #y_pred_class = binarize(y_pred_prob, 0.5)\n",
    "    \n",
    "    # print the first 10 predicted probabilities\n",
    "    print('First 10 predicted probabilities:\\n', y_pred_prob[0:10])\n",
    "    \n",
    "    ##########################################\n",
    "    #ROC Curves and Area Under the Curve (AUC)\n",
    "    ##########################################\n",
    "    \n",
    "    #Question: Wouldn't it be nice if we could see how sensitivity and specificity are affected by various thresholds, without actually changing the threshold?\n",
    "    #Answer: Plot the ROC curve!\n",
    "    \n",
    "    \n",
    "    #AUC is the percentage of the ROC plot that is underneath the curve\n",
    "    #Higher value = better classifier\n",
    "    roc_auc = metrics.roc_auc_score(y_test, y_pred_prob)\n",
    "    \n",
    "    \n",
    "\n",
    "    # IMPORTANT: first argument is true values, second argument is predicted probabilities\n",
    "    # we pass y_test and y_pred_prob\n",
    "    # we do not use y_pred_class, because it will give incorrect results without generating an error\n",
    "    # roc_curve returns 3 objects fpr, tpr, thresholds\n",
    "    # fpr: false positive rate\n",
    "    # tpr: true positive rate\n",
    "    fpr, tpr, thresholds = metrics.roc_curve(y_test, y_pred_prob)\n",
    "    if plot == True:\n",
    "        plt.figure()\n",
    "        \n",
    "        plt.plot(fpr, tpr, color='darkorange', label='ROC curve (area = %0.2f)' % roc_auc)\n",
    "        plt.plot([0, 1], [0, 1], color='navy', linestyle='--')\n",
    "        plt.xlim([0.0, 1.0])\n",
    "        plt.ylim([0.0, 1.0])\n",
    "        plt.rcParams['font.size'] = 12\n",
    "        plt.title('ROC curve for text classifier')\n",
    "        plt.xlabel('False Positive Rate (1 - Specificity)')\n",
    "        plt.ylabel('True Positive Rate (Sensitivity)')\n",
    "        plt.legend(loc=\"lower right\")\n",
    "        plt.show()\n",
    "    \n",
    "    # define a function that accepts a threshold and prints sensitivity and specificity\n",
    "    def evaluate_threshold(threshold):\n",
    "        #Sensitivity: When the actual value is positive, how often is the prediction correct?\n",
    "        #Specificity: When the actual value is negative, how often is the prediction correct?print('Sensitivity for ' + str(threshold) + ' :', tpr[thresholds > threshold][-1])\n",
    "        print('Specificity for ' + str(threshold) + ' :', 1 - fpr[thresholds > threshold][-1])\n",
    "\n",
    "    # One way of setting threshold\n",
    "    predict_mine = np.where(y_pred_prob > 0.50, 1, 0)\n",
    "    confusion = metrics.confusion_matrix(y_test, predict_mine)\n",
    "    print(confusion)\n",
    "    \n",
    "    \n",
    "    \n",
    "    return accuracy"
   ]
  },
  {
   "cell_type": "code",
   "execution_count": 55,
   "id": "064db095",
   "metadata": {
    "scrolled": false
   },
   "outputs": [
    {
     "name": "stdout",
     "output_type": "stream",
     "text": [
      "Accuracy: 0.9946140035906643\n",
      "Null accuracy:\n",
      " 0    286\n",
      "1    271\n",
      "Name: generated, dtype: int64\n",
      "Percentage of ones: 0.4865350089766607\n",
      "Percentage of zeros: 0.5134649910233393\n",
      "True: [1 0 0 1 0 0 1 0 1 0 0 1 0 1 1 0 1 1 0 1 0 0 0 1 1 1 0 0 1 0 0 1 0 1 1 1 0\n",
      " 0 1 1 1 0 1 1 0 1 0 0 0 1]\n",
      "Pred: [[1]\n",
      " [0]\n",
      " [0]\n",
      " [1]\n",
      " [0]\n",
      " [0]\n",
      " [1]\n",
      " [0]\n",
      " [1]\n",
      " [0]\n",
      " [0]\n",
      " [1]\n",
      " [0]\n",
      " [1]\n",
      " [1]\n",
      " [0]\n",
      " [1]\n",
      " [1]\n",
      " [0]\n",
      " [1]\n",
      " [0]\n",
      " [0]\n",
      " [0]\n",
      " [1]\n",
      " [1]\n",
      " [1]\n",
      " [0]\n",
      " [0]\n",
      " [1]\n",
      " [0]\n",
      " [0]\n",
      " [1]\n",
      " [0]\n",
      " [1]\n",
      " [1]\n",
      " [1]\n",
      " [0]\n",
      " [0]\n",
      " [1]\n",
      " [1]\n",
      " [1]\n",
      " [0]\n",
      " [1]\n",
      " [1]\n",
      " [0]\n",
      " [1]\n",
      " [0]\n",
      " [0]\n",
      " [0]\n",
      " [1]]\n"
     ]
    },
    {
     "data": {
      "image/png": "[encoded data removed]",
      "text/plain": [
       "<Figure size 640x480 with 2 Axes>"
      ]
     },
     "metadata": {},
     "output_type": "display_data"
    },
    {
     "name": "stdout",
     "output_type": "stream",
     "text": [
      "Classification Accuracy: 0.9946140035906643\n",
      "Classification Error: 0.0053859964093356805\n",
      "False Positive Rate: 0.0\n",
      "Precision: 1.0\n",
      "AUC Score: 0.9944649446494465\n",
      "18/18 [==============================] - 12s 657ms/step\n",
      "First 10 predicted responses:\n",
      " [[0.99810636]\n",
      " [0.0043177 ]\n",
      " [0.00284562]\n",
      " [0.99835753]\n",
      " [0.00332771]\n",
      " [0.00321074]\n",
      " [0.9984499 ]\n",
      " [0.00377013]\n",
      " [0.9983283 ]\n",
      " [0.00282007]]\n",
      "18/18 [==============================] - 13s 714ms/step\n",
      "First 10 predicted probabilities of class members:\n",
      " [[0.99810636]\n",
      " [0.0043177 ]\n",
      " [0.00284562]\n",
      " [0.99835753]\n",
      " [0.00332771]\n",
      " [0.00321074]\n",
      " [0.9984499 ]\n",
      " [0.00377013]\n",
      " [0.9983283 ]\n",
      " [0.00282007]]\n",
      "18/18 [==============================] - 12s 661ms/step\n",
      "18/18 [==============================] - 12s 698ms/step\n",
      "First 10 predicted probabilities:\n",
      " [[0.99810636]\n",
      " [0.0043177 ]\n",
      " [0.00284562]\n",
      " [0.99835753]\n",
      " [0.00332771]\n",
      " [0.00321074]\n",
      " [0.9984499 ]\n",
      " [0.00377013]\n",
      " [0.9983283 ]\n",
      " [0.00282007]]\n"
     ]
    },
    {
     "data": {
      "image/png": "[encoded data removed]",
      "text/plain": [
       "<Figure size 640x480 with 1 Axes>"
      ]
     },
     "metadata": {},
     "output_type": "display_data"
    },
    {
     "data": {
      "image/png": "[encoded data removed]",
      "text/plain": [
       "<Figure size 640x480 with 1 Axes>"
      ]
     },
     "metadata": {},
     "output_type": "display_data"
    },
    {
     "name": "stdout",
     "output_type": "stream",
     "text": [
      "[[286   0]\n",
      " [  3 268]]\n"
     ]
    }
   ],
   "source": [
    "accuracy_score = evalClassModel(model, y_test, y_pred, True)"
   ]
  },
  {
   "cell_type": "code",
   "execution_count": null,
   "id": "283a9376",
   "metadata": {},
   "outputs": [],
   "source": [
    "\n"
   ]
  },
  {
   "cell_type": "code",
   "execution_count": null,
   "id": "8e519f46",
   "metadata": {},
   "outputs": [],
   "source": []
  }
 ],
 "metadata": {
  "kernelspec": {
   "display_name": "Python 3 (ipykernel)",
   "language": "python",
   "name": "python3"
  },
  "language_info": {
   "codemirror_mode": {
    "name": "ipython",
    "version": 3
   },
   "file_extension": ".py",
   "mimetype": "text/x-python",
   "name": "python",
   "nbconvert_exporter": "python",
   "pygments_lexer": "ipython3",
   "version": "3.10.9"
  }
 },
 "nbformat": 4,
 "nbformat_minor": 5
}
